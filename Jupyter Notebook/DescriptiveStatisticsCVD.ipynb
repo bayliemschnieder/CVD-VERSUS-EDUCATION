{
 "cells": [
  {
   "cell_type": "markdown",
   "id": "302a0e3a-349c-4530-9682-105e517ac02e",
   "metadata": {},
   "source": [
    "# Project Report: Descriptive Statistics\n",
    "Cassady Jackson and Baylie Schnieder"
   ]
  },
  {
   "cell_type": "code",
   "execution_count": 1,
   "id": "7d232405-2735-4d9e-8dd5-905181d8e918",
   "metadata": {},
   "outputs": [],
   "source": [
    "import pandas as pd\n",
    "import matplotlib.pyplot as plt\n",
    "import seaborn as sns\n",
    "import scipy.stats as stats\n",
    "from scipy.stats import chi2_contingency\n",
    "from scipy.stats import pearsonr"
   ]
  },
  {
   "cell_type": "code",
   "execution_count": 27,
   "id": "1cc05b60-9572-4ae9-9e83-a59a7adf8589",
   "metadata": {},
   "outputs": [],
   "source": [
    "chronic_data = pd.read_csv(\"Cleaned_Chronic_Data.csv\")\n",
    "top_ten = pd.read_csv(\"TopTenStates.csv\")\n",
    "bottom_ten = pd.read_csv(\"BottomTen.csv\")\n",
    "top_25 = pd.read_csv(\"Top25.csv\")\n",
    "bottom_25 = pd.read_csv(\"Bottom25.csv\")"
   ]
  },
  {
   "cell_type": "markdown",
   "id": "568a6d75-5fb2-4493-acc0-fe061d121c89",
   "metadata": {},
   "source": [
    "### Analysis Question 1"
   ]
  },
  {
   "cell_type": "code",
   "execution_count": 24,
   "id": "dd667c1b-c577-4c8f-8679-bb3dbe1ddd9f",
   "metadata": {},
   "outputs": [
    {
     "name": "stdout",
     "output_type": "stream",
     "text": [
      "count    2702.000000\n",
      "mean      124.524278\n",
      "std       156.007451\n",
      "min         1.000000\n",
      "25%        41.400000\n",
      "50%        79.600000\n",
      "75%       156.775000\n",
      "max      1456.500000\n",
      "Name: DataValue, dtype: float64\n"
     ]
    }
   ],
   "source": [
    "des_stats = chronic_data['DataValue'].describe()\n",
    "print(des_stats)"
   ]
  },
  {
   "cell_type": "code",
   "execution_count": 18,
   "id": "c9e16f74-71c0-481d-b8d9-ee219b3c4741",
   "metadata": {},
   "outputs": [
    {
     "name": "stdout",
     "output_type": "stream",
     "text": [
      "count     496.000000\n",
      "mean      111.441935\n",
      "std       143.881053\n",
      "min         1.100000\n",
      "25%        35.600000\n",
      "50%        66.900000\n",
      "75%       138.400000\n",
      "max      1009.400000\n",
      "Name: DataValue, dtype: float64\n"
     ]
    }
   ],
   "source": [
    "des_stats_top = top_ten['DataValue'].describe()\n",
    "print(des_stats_top)"
   ]
  },
  {
   "cell_type": "code",
   "execution_count": 20,
   "id": "f5d15471-36a1-40ee-8e63-abeb22419b3d",
   "metadata": {},
   "outputs": [
    {
     "name": "stdout",
     "output_type": "stream",
     "text": [
      "count     546.000000\n",
      "mean      140.021978\n",
      "std       169.880792\n",
      "min         1.500000\n",
      "25%        48.325000\n",
      "50%        89.100000\n",
      "75%       180.175000\n",
      "max      1456.500000\n",
      "Name: DataValue, dtype: float64\n"
     ]
    }
   ],
   "source": [
    "des_stats_bottom = bottom_ten['DataValue'].describe()\n",
    "print(des_stats_bottom)"
   ]
  },
  {
   "cell_type": "markdown",
   "id": "69dacdf9-d1ce-474d-928d-e2b3ee53ba11",
   "metadata": {},
   "source": [
    "### Analysis Question 3"
   ]
  },
  {
   "cell_type": "code",
   "execution_count": null,
   "id": "bef7a59b-5900-459f-83a9-00cbd4717961",
   "metadata": {},
   "outputs": [],
   "source": []
  },
  {
   "cell_type": "markdown",
   "id": "d00a2707-ffad-4072-af3c-2db5d7e7acf4",
   "metadata": {},
   "source": [
    "### Analysis Question 4"
   ]
  },
  {
   "cell_type": "code",
   "execution_count": 30,
   "id": "b2b13af7-7b8b-4020-b389-2c0a43900915",
   "metadata": {},
   "outputs": [
    {
     "name": "stdout",
     "output_type": "stream",
     "text": [
      "count    1209.000000\n",
      "mean      118.841687\n",
      "std       151.046565\n",
      "min         1.000000\n",
      "25%        37.300000\n",
      "50%        75.900000\n",
      "75%       150.600000\n",
      "max      1125.100000\n",
      "Name: DataValue, dtype: float64\n"
     ]
    }
   ],
   "source": [
    "des_stats_25 = top_25['DataValue'].describe()\n",
    "print(des_stats_25)"
   ]
  },
  {
   "cell_type": "code",
   "execution_count": 32,
   "id": "dd012698-0dd5-4491-9a56-6396e274a483",
   "metadata": {},
   "outputs": [
    {
     "name": "stdout",
     "output_type": "stream",
     "text": [
      "count    1383.000000\n",
      "mean      129.420897\n",
      "std       159.979260\n",
      "min         1.300000\n",
      "25%        44.000000\n",
      "50%        82.500000\n",
      "75%       162.300000\n",
      "max      1456.500000\n",
      "Name: DataValue, dtype: float64\n"
     ]
    }
   ],
   "source": [
    "des_stats_50 = bottom_25['DataValue'].describe()\n",
    "print(des_stats_50)"
   ]
  },
  {
   "cell_type": "code",
   "execution_count": null,
   "id": "d409f0e2-43e8-4dc3-82c9-fe972e1aa871",
   "metadata": {},
   "outputs": [],
   "source": []
  }
 ],
 "metadata": {
  "kernelspec": {
   "display_name": "Python 3 (ipykernel)",
   "language": "python",
   "name": "python3"
  },
  "language_info": {
   "codemirror_mode": {
    "name": "ipython",
    "version": 3
   },
   "file_extension": ".py",
   "mimetype": "text/x-python",
   "name": "python",
   "nbconvert_exporter": "python",
   "pygments_lexer": "ipython3",
   "version": "3.10.14"
  }
 },
 "nbformat": 4,
 "nbformat_minor": 5
}
